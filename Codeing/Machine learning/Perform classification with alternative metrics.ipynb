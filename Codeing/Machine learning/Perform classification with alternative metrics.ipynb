{
 "cells": [
  {
   "cell_type": "markdown",
   "metadata": {},
   "source": [
    "# Classification Metrics\n",
    "\n",
    "In the last notebook we used a binary classifier to predict whether patients were diabetic or not. We used *accuracy*, the proportion of how many cases were predicted correctly, as a measure of how well the model performed, but accuracy isn't everything. In this notebook, we will look at alternatives to accuracy that can be much more useful in machine learning.\n",
    "\n",
    "## Alternative metrics for binary classifiers\n",
    "\n",
    "Accuracy seems like a sensible metric to evaluate (and to a certain extent it is), but you need to be careful about drawing too many conclusions from the accuracy of a classifier. Suppose only 3% of the population is diabetic. You could create a classifier that just always predicts 0, and it would be 97% accurate - but not terribly helpful in identifying patients with diabetes!\n",
    "\n",
    "Fortunately, there are some other metrics that reveal more about how our model is performing. Scikit-Learn includes the ability to create a *classification report* that provides more insight than raw accuracy alone.\n",
    "\n",
    "To get started, run the next cell to load our data and train our model like last time.\n"
   ]
  },
  {
   "cell_type": "code",
   "execution_count": 10,
   "metadata": {
    "scrolled": false
   },
   "outputs": [
    {
     "name": "stdout",
     "output_type": "stream",
     "text": [
      "Training cases: 10500\n",
      "Test cases: 4500\n",
      "Predicted labels:  [0 0 0 ... 0 1 0]\n",
      "Actual labels:    [0 0 1 ... 1 1 1]\n",
      "Accuracy:  0.7893333333333333\n"
     ]
    }
   ],
   "source": [
    "import pandas as pd\n",
    "from matplotlib import pyplot as plt\n",
    "%matplotlib inline\n",
    "from sklearn.model_selection import train_test_split\n",
    "from sklearn.metrics import accuracy_score\n",
    "import urllib.request\n",
    "\n",
    "\n",
    "# load the training dataset\n",
    "url = \"https://raw.githubusercontent.com/MicrosoftDocs/mslearn-introduction-to-machine-learning/main/Data/ml-basics/diabetes.csv\"\n",
    "urllib.request.urlretrieve(url, \"diabetes.csv\")\n",
    "\n",
    "#Load data from the downloaded file\n",
    "diabetes = pd.read_csv('diabetes.csv', delimiter=',', header='infer')\n",
    "\n",
    "# Separate features and labels\n",
    "features = ['Pregnancies','PlasmaGlucose','DiastolicBloodPressure','TricepsThickness','SerumInsulin','BMI','DiabetesPedigree','Age']\n",
    "label = 'Diabetic'\n",
    "X, y = diabetes[features].values, diabetes[label].values\n",
    "\n",
    "\n",
    "# # Split data 70%-30% into training set and test set\n",
    "# X_train, X_test, y_train, y_test = train_test_split(X, y, test_size=0.30, random_state=0)\n",
    "\n",
    "# print ('Training cases: %d\\nTest cases: %d' % (X_train.shape[0], X_test.shape[0]))\n",
    "\n",
    "# # Train the model\n",
    "# from sklearn.linear_model import LogisticRegression\n",
    "\n",
    "# # Set regularization rate\n",
    "# reg = 0.01\n",
    "\n",
    "# # train a logistic regression model on the training set\n",
    "# model = LogisticRegression(C=1/reg, solver=\"liblinear\").fit(X_train, y_train)\n",
    "\n",
    "# predictions = model.predict(X_test)\n",
    "# print('Predicted labels: ', predictions)\n",
    "# print('Actual labels:    ', y_test)\n",
    "\n",
    "\n",
    "# print('Accuracy: ', accuracy_score(y_test, predictions))\n",
    "\n",
    "#Split data 70%-30% into training aset and test set\n",
    "X_train, X_test, y_train, y_test = train_test_split(X, y, test_size=0.30, random_state=0)\n",
    "\n",
    "print('Training cases: %d\\nTest cases: %d' % (X_train.shape[0], X_test.shape[0]))\n",
    "\n",
    "#Train the model\n",
    "from sklearn.linear_model import LogisticRegression\n",
    "\n",
    "# Set regularization rate\n",
    "reg = 0.01\n",
    "\n",
    "#training a logistic regression model on the training set\n",
    "model = LogisticRegression(C=1/reg, solver=\"liblinear\").fit(X_train, y_train)\n",
    "\n",
    "predictions = model.predict(X_test)\n",
    "print('Predicted labels: ', predictions)\n",
    "print('Actual labels:   ', y_test)\n",
    "\n",
    "print('Accuracy: ', accuracy_score(y_test, predictions))\n"
   ]
  },
  {
   "cell_type": "markdown",
   "metadata": {},
   "source": [
    "One of the simplest places to start is a classification report. Run the next cell to see a range of alternate ways to assess our model."
   ]
  },
  {
   "cell_type": "code",
   "execution_count": 11,
   "metadata": {
    "tags": []
   },
   "outputs": [
    {
     "name": "stdout",
     "output_type": "stream",
     "text": [
      "              precision    recall  f1-score   support\n",
      "\n",
      "           0       0.81      0.88      0.85      2986\n",
      "           1       0.72      0.60      0.66      1514\n",
      "\n",
      "    accuracy                           0.79      4500\n",
      "   macro avg       0.77      0.74      0.75      4500\n",
      "weighted avg       0.78      0.79      0.78      4500\n",
      "\n"
     ]
    }
   ],
   "source": [
    "# from sklearn. metrics import classification_report\n",
    "\n",
    "# print(classification_report(y_test, predictions))\n",
    "\n",
    "from sklearn. metrics import classification_report\n",
    "\n",
    "print(classification_report(y_test, predictions))"
   ]
  },
  {
   "cell_type": "markdown",
   "metadata": {},
   "source": [
    "The classification report includes the following metrics for each class (0 and 1):\n",
    "\n",
    "> Note: The header row may not line up with the values.\n",
    "\n",
    "* *Precision*: Of the predictions the model made for this class, what proportion were correct?\n",
    "* *Recall*: Out of all of the instances of this class in the test dataset, how many did the model identify?\n",
    "* *F1-Score*: An average metric that takes both precision and recall into account.\n",
    "* *Support*: How many instances of this class are there in the test dataset?\n",
    "\n",
    "The classification report also includes averages for these metrics, including a weighted average that allows for the imbalance in the number of cases of each class.\n",
    "\n",
    "Because this is a *binary* classification problem, the ***1*** class is considered *positive* and its precision and recall are particularly interesting - these in effect answer the questions:\n",
    "\n",
    "- Of all the patients the model predicted are diabetic, how many are actually diabetic?\n",
    "- Of all the patients that are actually diabetic, how many did the model identify?\n",
    "\n",
    "You can retrieve these values on their own by using the **precision_score** and **recall_score** metrics in Scikit-Learn (which by default assume a binary classification model).\n"
   ]
  },
  {
   "cell_type": "code",
   "execution_count": 8,
   "metadata": {
    "tags": []
   },
   "outputs": [
    {
     "name": "stdout",
     "output_type": "stream",
     "text": [
      "Overall Precision: 0.7242472266244057\n",
      "Overall Recall: 0.6036988110964333\n"
     ]
    }
   ],
   "source": [
    "# from sklearn.metrics import precision_score, recall_score\n",
    "\n",
    "# print(\"Overall Precision:\", precision_score(y_test, predictions))\n",
    "# print(\"Overall Recall:\", recall_score(y_test, predictions))\n",
    "\n",
    "from sklearn.metrics import precision_score, recall_score\n",
    "\n",
    "print(\"Overall Precision:\", precision_score(y_test, predictions))\n",
    "print(\"Overall Recall:\", recall_score(y_test, predictions))"
   ]
  },
  {
   "cell_type": "markdown",
   "metadata": {},
   "source": [
    "The precision and recall metrics are derived from four possible prediction outcomes:\n",
    "* *True Positives*: The predicted label and the actual label are both 1.\n",
    "* *False Positives*: The predicted label is 1, but the actual label is 0.\n",
    "* *False Negatives*: The predicted label is 0, but the actual label is 1.\n",
    "* *True Negatives*: The predicted label and the actual label are both 0.\n",
    "\n",
    "These metrics are generally tabulated for the test set and shown together as a *confusion matrix*, which takes the following form:\n",
    "\n",
    "<table style=\"border: 1px solid black;\">\n",
    "    <tr style=\"border: 1px solid black;\">\n",
    "        <td style=\"border: 1px solid black;color: black;\" bgcolor=\"lightgray\">TN</td><td style=\"border: 1px solid black;color: black;\" bgcolor=\"white\">FP</td>\n",
    "    </tr>\n",
    "    <tr style=\"border: 1px solid black;\">\n",
    "        <td style=\"border: 1px solid black;color: black;\" bgcolor=\"white\">FN</td><td style=\"border: 1px solid black;color: black;\" bgcolor=\"lightgray\">TP</td>\n",
    "    </tr>\n",
    "</table>\n",
    "\n",
    "Note that the correct (*true*) predictions form a diagonal line from top left to bottom right - these figures should be significantly higher than the *false* predictions if the model is any good.\n",
    "\n",
    "In Python, you can use the **sklearn.metrics.confusion_matrix** function to find these values for a trained classifier:\n"
   ]
  },
  {
   "cell_type": "code",
   "execution_count": 12,
   "metadata": {
    "tags": []
   },
   "outputs": [
    {
     "name": "stdout",
     "output_type": "stream",
     "text": [
      "[[2638  348]\n",
      " [ 600  914]]\n"
     ]
    }
   ],
   "source": [
    "# from sklearn.metrics import confusion_matrix\n",
    "\n",
    "# # Print the confusion matrix\n",
    "# cm = confusion_matrix(y_test, predictions)\n",
    "# print (cm)\n",
    "\n",
    "from sklearn.metrics import confusion_matrix\n",
    "\n",
    "#Print the confusion matric\n",
    "cm = confusion_matrix(y_test, predictions)\n",
    "print(cm)"
   ]
  },
  {
   "cell_type": "markdown",
   "metadata": {},
   "source": [
    "Until now, we've considered the predictions from the model as being either 1 or 0 class labels. Actually, things are a little more complex than that. Statistical machine learning algorithms, like logistic regression, are based on *probability*. What actually gets predicted by a binary classifier is the probability that the label is true (**P(y)**) and the probability that the label is false (1 - **P(y)**). A threshold value of 0.5 is used to decide whether the predicted label is a 1 (*P(y) > 0.5*) or a 0 (*P(y) <= 0.5*). You can use the **predict_proba** method to see the probability pairs for each case:"
   ]
  },
  {
   "cell_type": "code",
   "execution_count": 13,
   "metadata": {
    "tags": []
   },
   "outputs": [
    {
     "name": "stdout",
     "output_type": "stream",
     "text": [
      "[[0.81651727 0.18348273]\n",
      " [0.96298333 0.03701667]\n",
      " [0.80862083 0.19137917]\n",
      " ...\n",
      " [0.60688422 0.39311578]\n",
      " [0.10672996 0.89327004]\n",
      " [0.63865894 0.36134106]]\n"
     ]
    }
   ],
   "source": [
    "y_scores = model.predict_proba(X_test)\n",
    "print(y_scores)"
   ]
  },
  {
   "cell_type": "markdown",
   "metadata": {},
   "source": [
    "The decision to score a prediction as a 1 or a 0 depends on the threshold to which the predicted probabilities are compared. If we were to change the threshold, it would affect the predictions; and therefore change the metrics in the confusion matrix. A common way to evaluate a classifier is to examine the *true positive rate* (which is another name for recall) and the *false positive rate* for a range of possible thresholds. These rates are then plotted against all possible thresholds to form a chart known as a *received operator characteristic (ROC) chart*, like this:"
   ]
  },
  {
   "cell_type": "code",
   "execution_count": 14,
   "metadata": {},
   "outputs": [
    {
     "data": {
      "image/png": "[encoded data removed]",
      "text/plain": [
       "<Figure size 600x600 with 1 Axes>"
      ]
     },
     "metadata": {},
     "output_type": "display_data"
    }
   ],
   "source": [
    "from sklearn.metrics import roc_curve\n",
    "from sklearn.metrics import confusion_matrix\n",
    "import matplotlib\n",
    "import matplotlib.pyplot as plt\n",
    "%matplotlib inline\n",
    "\n",
    "# calculate ROC curve\n",
    "fpr, tpr, thresholds = roc_curve(y_test, y_scores[:,1])\n",
    "\n",
    "# plot ROC curve\n",
    "fig = plt.figure(figsize=(6, 6))\n",
    "# Plot the diagonal 50% line\n",
    "plt.plot([0, 1], [0, 1], 'k--')\n",
    "# Plot the FPR and TPR achieved by our model\n",
    "plt.plot(fpr, tpr)\n",
    "plt.xlabel('False Positive Rate')\n",
    "plt.ylabel('True Positive Rate')\n",
    "plt.title('ROC Curve')\n",
    "plt.show()"
   ]
  },
  {
   "cell_type": "markdown",
   "metadata": {},
   "source": [
    "The ROC chart shows the curve of the true and false positive rates for different threshold values between 0 and 1. A perfect classifier would have a curve that goes straight up the left side and straight across the top. The diagonal line across the chart represents the probability of predicting correctly with a 50/50 random prediction - you want the curve to be higher than that (or your model is no better than simply guessing!).\n",
    "\n",
    "The area under the curve (*AUC*) is a value between 0 and 1 that quantifies the overall performance of the model. The closer to 1 this value is, the better the model. Scikit-Learn includes a function to calculate this metric, **roc_auc_score**."
   ]
  },
  {
   "cell_type": "code",
   "execution_count": 18,
   "metadata": {
    "tags": []
   },
   "outputs": [
    {
     "name": "stdout",
     "output_type": "stream",
     "text": [
      "AUC: 0.8568482508863468\n"
     ]
    }
   ],
   "source": [
    "# from sklearn.metrics import roc_auc_score\n",
    "\n",
    "# auc = roc_auc_score(y_test,y_scores[:,1])\n",
    "# print('AUC: ' + str(auc))\n",
    "\n",
    "from sklearn.metrics import roc_auc_score\n",
    "\n",
    "auc = roc_auc_score(y_test, y_scores[:,1])\n",
    "print('AUC: ' + str(auc))"
   ]
  },
  {
   "cell_type": "markdown",
   "metadata": {},
   "source": [
    "### Perform preprocessing in a pipeline\n",
    "\n",
    "In this case, the ROC curve and its AUC indicate that the model performs better than a random guess which is not bad considering we performed very little preprocessing of the data.\n",
    "\n",
    "In practice, it's common to perform some preprocessing of the data to make it easier for the algorithm to fit a model to it. There's a huge range of preprocessing transformations you can perform to get your data ready for modeling, but we'll limit ourselves to a few common techniques:\n",
    "\n",
    "- Scaling numeric features so they're on the same scale. This prevents features with large values from producing coefficients that disproportionately affect the predictions.\n",
    "- Encoding categorical variables. For example, by using a *one-hot encoding* technique you can create individual binary (true/false) features for each possible category value.\n",
    "\n",
    "To apply these preprocessing transformations, we'll make use of a Scikit-Learn feature named *pipelines*. Pipelines enable us to define a set of preprocessing steps that end with an algorithm. You can then apply the entire pipeline to the data, so that the model encapsulates all of the preprocessing steps as well as the regression algorithm. This is useful, because when we want to use the model to predict values from new data, we'll need to apply the same transformations (based on the same statistical distributions and category encodings used with the training data).\n",
    "\n",
    ">**Note**: The term *pipeline* is used extensively in machine learning, often to mean very different things! In this context, we're using it to refer to pipeline objects in Scikit-Learn.\n"
   ]
  },
  {
   "cell_type": "code",
   "execution_count": 20,
   "metadata": {
    "tags": []
   },
   "outputs": [
    {
     "name": "stdout",
     "output_type": "stream",
     "text": [
      "Pipeline(steps=[('preprocessor',\n",
      "                 ColumnTransformer(transformers=[('num',\n",
      "                                                  Pipeline(steps=[('scaler',\n",
      "                                                                   StandardScaler())]),\n",
      "                                                  [0, 1, 2, 3, 4, 5, 6]),\n",
      "                                                 ('cat',\n",
      "                                                  Pipeline(steps=[('onehot',\n",
      "                                                                   OneHotEncoder(handle_unknown='ignore'))]),\n",
      "                                                  [7])])),\n",
      "                ('logregressor',\n",
      "                 LogisticRegression(C=100.0, solver='liblinear'))])\n"
     ]
    }
   ],
   "source": [
    "# # Train the model\n",
    "# from sklearn.compose import ColumnTransformer\n",
    "# from sklearn.pipeline import Pipeline\n",
    "# from sklearn.preprocessing import StandardScaler, OneHotEncoder\n",
    "# from sklearn.linear_model import LogisticRegression\n",
    "# import numpy as np\n",
    "\n",
    "# # Define preprocessing for numeric columns (normalize them so they're on the same scale)\n",
    "# numeric_features = [0,1,2,3,4,5,6]\n",
    "# numeric_transformer = Pipeline(steps=[\n",
    "#     ('scaler', StandardScaler())])\n",
    "\n",
    "# # Define preprocessing for categorical features (encode the Age column)\n",
    "# categorical_features = [7]\n",
    "# categorical_transformer = Pipeline(steps=[\n",
    "#     ('onehot', OneHotEncoder(handle_unknown='ignore'))])\n",
    "\n",
    "# # Combine preprocessing steps\n",
    "# preprocessor = ColumnTransformer(\n",
    "#     transformers=[\n",
    "#         ('num', numeric_transformer, numeric_features),\n",
    "#         ('cat', categorical_transformer, categorical_features)])\n",
    "\n",
    "# # Create preprocessing and training pipeline\n",
    "# pipeline = Pipeline(steps=[('preprocessor', preprocessor),\n",
    "#                            ('logregressor', LogisticRegression(C=1/reg, solver=\"liblinear\"))])\n",
    "\n",
    "\n",
    "# # fit the pipeline to train a logistic regression model on the training set\n",
    "# model = pipeline.fit(X_train, (y_train))\n",
    "# print (model)\n",
    "\n",
    "#Train the model\n",
    "from sklearn.compose import ColumnTransformer\n",
    "from sklearn.pipeline import Pipeline\n",
    "from sklearn.preprocessing import StandardScaler, OneHotEncoder\n",
    "from sklearn.linear_model import LogisticRegression\n",
    "import numpy as np\n",
    "\n",
    "#Define preprocessing for numeric columns (normalize them so they're on the same scale)\n",
    "numeric_features = [0,1,2,3,4,5,6]\n",
    "numeric_transformer = Pipeline(steps=[\n",
    "    ('scaler', StandardScaler())\n",
    "])\n",
    "\n",
    "#Define preprocessing for categorical feartures (encode the age column)\n",
    "categorical_features = [7]\n",
    "categorical_transformer = Pipeline(steps=[\n",
    "    ('onehot', OneHotEncoder(handle_unknown='ignore'))\n",
    "])\n",
    "\n",
    "#Combine preprocessing steps\n",
    "preprocessor = ColumnTransformer(\n",
    "    transformers=[\n",
    "        ('num', numeric_transformer, numeric_features),\n",
    "        ('cat', categorical_transformer, categorical_features)\n",
    "    ]\n",
    ")\n",
    "\n",
    "#Create preprocessing and training pipeline\n",
    "pipeline = Pipeline(steps=[('preprocessor', preprocessor),\n",
    "                           ('logregressor', LogisticRegression(C=1/reg, solver='liblinear'))])\n",
    "\n",
    "#fit the pipeline to train a logistic regression model on the training set\n",
    "model = pipeline.fit(X_train, (y_train))\n",
    "print(model)"
   ]
  },
  {
   "cell_type": "markdown",
   "metadata": {},
   "source": [
    "This pipeline encapsulates the preprocessing steps and also model training.\n",
    "\n",
    "Let's use the model trained by this pipeline to predict labels for our test set, and compare the performance metrics with the basic model we created previously."
   ]
  },
  {
   "cell_type": "code",
   "execution_count": 26,
   "metadata": {
    "tags": []
   },
   "outputs": [
    {
     "name": "stdout",
     "output_type": "stream",
     "text": [
      "Confusion Matrix:\n",
      " [[2667  319]\n",
      " [ 406 1108]] \n",
      "\n",
      "Accuracy: 0.8388888888888889\n",
      "Overall Precision: 0.7764540995094604\n",
      "Overall Recall: 0.7318361955085865\n",
      "AUC: 0.9202444963329531\n"
     ]
    },
    {
     "data": {
      "image/png": "[encoded data removed]",
      "text/plain": [
       "<Figure size 600x600 with 1 Axes>"
      ]
     },
     "metadata": {},
     "output_type": "display_data"
    }
   ],
   "source": [
    "# # Get predictions from test data\n",
    "# predictions = model.predict(X_test)\n",
    "# y_scores = model.predict_proba(X_test)\n",
    "\n",
    "# # Get evaluation metrics\n",
    "# cm = confusion_matrix(y_test, predictions)\n",
    "# print ('Confusion Matrix:\\n',cm, '\\n')\n",
    "# print('Accuracy:', accuracy_score(y_test, predictions))\n",
    "# print(\"Overall Precision:\", precision_score(y_test, predictions))\n",
    "# print(\"Overall Recall:\", recall_score(y_test, predictions))\n",
    "# auc = roc_auc_score(y_test,y_scores[:,1])\n",
    "# print('AUC: ' + str(auc))\n",
    "\n",
    "# # calculate ROC curve\n",
    "# fpr, tpr, thresholds = roc_curve(y_test, y_scores[:,1])\n",
    "\n",
    "# # plot ROC curve\n",
    "# fig = plt.figure(figsize=(6, 6))\n",
    "# # Plot the diagonal 50% line\n",
    "# plt.plot([0, 1], [0, 1], 'k--')\n",
    "# # Plot the FPR and TPR achieved by our model\n",
    "# plt.plot(fpr, tpr)\n",
    "# plt.xlabel('False Positive Rate')\n",
    "# plt.ylabel('True Positive Rate')\n",
    "# plt.title('ROC Curve')\n",
    "# plt.show()\n",
    "\n",
    "#Get cpredictions from test data\n",
    "predictions = model.predict(X_test)\n",
    "y_scores = model.predict_proba(X_test)\n",
    "\n",
    "#Get evaluation metrics\n",
    "cm = confusion_matrix(y_test, predictions)\n",
    "print('Confusion Matrix:\\n', cm, '\\n')\n",
    "print('Accuracy:',accuracy_score(y_test, predictions))\n",
    "print('Overall Precision:', precision_score(y_test, predictions))\n",
    "print(\"Overall Recall:\", recall_score(y_test, predictions))\n",
    "auc = roc_auc_score(y_test, y_scores[:,1])\n",
    "print('AUC: ' + str(auc))\n",
    "\n",
    "#Plot ROC curve'\n",
    "fig = plt.figure(figsize=(6,6))\n",
    "#Plot the diagonal 50% line\n",
    "plt.plot([0,1], [0, 1], 'k--')\n",
    "#plot the FRR and TPR achived by our model\n",
    "plt.plot(fpr, tpr)\n",
    "plt.xlabel('False Positive Rate')\n",
    "plt.ylabel('True Positive Rate')\n",
    "plt.title('ROC Curve')\n",
    "plt.show()"
   ]
  },
  {
   "cell_type": "markdown",
   "metadata": {},
   "source": [
    "The results do look a little better, so clearly preprocessing the data has made a difference.\n",
    "\n",
    "### Try a different algorithm\n",
    "\n",
    "Now let's try a different algorithm. Previously we used a logistic regression algorithm, which is a *linear* algorithm. There are many kinds of classification algorithms we could try, including:\n",
    "\n",
    "- **Support Vector Machine algorithms**: Algorithms that define a *hyperplane* that separates classes.\n",
    "- **Tree-based algorithms**: Algorithms that build a decision tree to reach a prediction.\n",
    "- **Ensemble algorithms**: Algorithms that combine the outputs of multiple base algorithms to improve generalizability.\n",
    "\n",
    "This time, we'll use the same preprocessing steps as before, but we'll train the model using an *ensemble* algorithm named *Random Forest* that combines the outputs of multiple random decision trees. For more details, see the [Scikit-Learn documentation](https://scikit-learn.org/stable/modules/ensemble.html#forests-of-randomized-trees)."
   ]
  },
  {
   "cell_type": "code",
   "execution_count": 30,
   "metadata": {
    "tags": []
   },
   "outputs": [
    {
     "name": "stdout",
     "output_type": "stream",
     "text": [
      "Pipeline(steps=[('preprocessor',\n",
      "                 ColumnTransformer(transformers=[('num',\n",
      "                                                  Pipeline(steps=[('scaler',\n",
      "                                                                   StandardScaler())]),\n",
      "                                                  [0, 1, 2, 3, 4, 5, 6]),\n",
      "                                                 ('cat',\n",
      "                                                  Pipeline(steps=[('onehot',\n",
      "                                                                   OneHotEncoder(handle_unknown='ignore'))]),\n",
      "                                                  [7])])),\n",
      "                ('logregressor', RandomForestClassifier())])\n"
     ]
    }
   ],
   "source": [
    "from sklearn.ensemble import RandomForestClassifier\n",
    "\n",
    "# Create preprocessing and training pipeline\n",
    "pipeline = Pipeline(steps=[('preprocessor', preprocessor),\n",
    "                           ('logregressor', RandomForestClassifier(n_estimators=100))])\n",
    "\n",
    "# fit the pipeline to train a random forest model on the training set\n",
    "model = pipeline.fit(X_train, (y_train))\n",
    "print (model)"
   ]
  },
  {
   "cell_type": "markdown",
   "metadata": {},
   "source": [
    "Let's look at the performance metrics for the new model."
   ]
  },
  {
   "cell_type": "code",
   "execution_count": 31,
   "metadata": {
    "tags": []
   },
   "outputs": [
    {
     "name": "stdout",
     "output_type": "stream",
     "text": [
      "Confusion Matrix:\n",
      " [[2853  133]\n",
      " [ 187 1327]] \n",
      "\n",
      "Accuracy: 0.9288888888888889\n",
      "Overall Precision: 0.9089041095890411\n",
      "Overall Recall: 0.8764861294583883\n",
      "\n",
      "AUC: 0.9819363989237313\n"
     ]
    },
    {
     "data": {
      "image/png": "[encoded data removed]",
      "text/plain": [
       "<Figure size 600x600 with 1 Axes>"
      ]
     },
     "metadata": {},
     "output_type": "display_data"
    }
   ],
   "source": [
    "predictions = model.predict(X_test)\n",
    "y_scores = model.predict_proba(X_test)\n",
    "cm = confusion_matrix(y_test, predictions)\n",
    "print ('Confusion Matrix:\\n',cm, '\\n')\n",
    "print('Accuracy:', accuracy_score(y_test, predictions))\n",
    "print(\"Overall Precision:\",precision_score(y_test, predictions))\n",
    "print(\"Overall Recall:\",recall_score(y_test, predictions))\n",
    "auc = roc_auc_score(y_test,y_scores[:,1])\n",
    "print('\\nAUC: ' + str(auc))\n",
    "\n",
    "# calculate ROC curve\n",
    "fpr, tpr, thresholds = roc_curve(y_test, y_scores[:,1])\n",
    "\n",
    "# plot ROC curve\n",
    "fig = plt.figure(figsize=(6, 6))\n",
    "# Plot the diagonal 50% line\n",
    "plt.plot([0, 1], [0, 1], 'k--')\n",
    "# Plot the FPR and TPR achieved by our model\n",
    "plt.plot(fpr, tpr)\n",
    "plt.xlabel('False Positive Rate')\n",
    "plt.ylabel('True Positive Rate')\n",
    "plt.title('ROC Curve')\n",
    "plt.show()"
   ]
  },
  {
   "cell_type": "markdown",
   "metadata": {},
   "source": [
    "That looks better!\n",
    "\n",
    "### Use the Model for Inferencing\n",
    "Now that we have a reasonably useful trained model, we can save it for use later to predict labels for new data."
   ]
  },
  {
   "cell_type": "code",
   "execution_count": 32,
   "metadata": {},
   "outputs": [
    {
     "data": {
      "text/plain": [
       "['./diabetes_model.pkl']"
      ]
     },
     "execution_count": 32,
     "metadata": {},
     "output_type": "execute_result"
    }
   ],
   "source": [
    "import joblib\n",
    "\n",
    "# Save the model as a pickle file\n",
    "filename = './diabetes_model.pkl'\n",
    "joblib.dump(model, filename)"
   ]
  },
  {
   "cell_type": "markdown",
   "metadata": {},
   "source": [
    "When we have some new observations with unknown labels, we can load our new model and use it to predict label values."
   ]
  },
  {
   "cell_type": "code",
   "execution_count": null,
   "metadata": {
    "tags": []
   },
   "outputs": [
    {
     "name": "stdout",
     "output_type": "stream",
     "text": [
      "New sample: [np.float64(2.0), np.float64(180.0), np.float64(74.0), np.float64(24.0), np.float64(21.0), np.float64(23.9091702), np.float64(1.488172308), np.float64(22.0)]\n",
      "Predicted class is 1\n"
     ]
    },
    {
     "ename": "",
     "evalue": "",
     "output_type": "error",
     "traceback": [
      "\u001b[1;31mThe Kernel crashed while executing code in the current cell or a previous cell. \n",
      "\u001b[1;31mPlease review the code in the cell(s) to identify a possible cause of the failure. \n",
      "\u001b[1;31mClick <a href='https://aka.ms/vscodeJupyterKernelCrash'>here</a> for more info. \n",
      "\u001b[1;31mView Jupyter <a href='command:jupyter.viewOutput'>log</a> for further details."
     ]
    }
   ],
   "source": [
    "# Load the model from the file\n",
    "model = joblib.load(filename)\n",
    "\n",
    "# predict on a new sample\n",
    "# The model accepts an array of feature arrays (so you can predict the classes of multiple patients in a single call)\n",
    "# We'll create an array with a single array of features, representing one patient\n",
    "X_new = np.array([[2,180,74,24,21,23.9091702,1.488172308,22]])\n",
    "print ('New sample: {}'.format(list(X_new[0])))\n",
    "\n",
    "# Get a prediction\n",
    "pred = model.predict(X_new)\n",
    "\n",
    "# The model returns an array of predictions - one for each set of features submitted\n",
    "# In our case, we only submitted one patient, so our prediction is the first one in the resulting array.\n",
    "print('Predicted class is {}'.format(pred[0]))"
   ]
  },
  {
   "cell_type": "markdown",
   "metadata": {},
   "source": [
    "## Summary\n",
    "\n",
    "In this notebook, we looked at a range of metrics for binary classification and tried a few algorithms beyond logistic regression. We'll move onto more complex classification problems in the next notebook."
   ]
  }
 ],
 "metadata": {
  "kernel_info": {
   "name": "conda-env-azureml_py38-py"
  },
  "kernelspec": {
   "display_name": "Python 3",
   "language": "python",
   "name": "python3"
  },
  "language_info": {
   "codemirror_mode": {
    "name": "ipython",
    "version": 3
   },
   "file_extension": ".py",
   "mimetype": "text/x-python",
   "name": "python",
   "nbconvert_exporter": "python",
   "pygments_lexer": "ipython3",
   "version": "3.12.4"
  },
  "nteract": {
   "version": "nteract-front-end@1.0.0"
  }
 },
 "nbformat": 4,
 "nbformat_minor": 2
}
